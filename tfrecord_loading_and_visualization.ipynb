{
 "cells": [
  {
   "cell_type": "raw",
   "metadata": {},
   "source": [
    "An example of TFRecord data loading and preprocessing.\n",
    "    - Creates threads to read TFRecord files from disk, decode and preprocess.\n",
    "    - Loads a batch of samples,\n",
    "    - Saves a frame from the first sample."
   ]
  },
  {
   "cell_type": "code",
   "execution_count": 36,
   "metadata": {},
   "outputs": [],
   "source": [
    "import tensorflow as tf\n",
    "import numpy as np\n",
    "import os\n",
    "%matplotlib inline\n",
    "import matplotlib.pyplot as plt\n",
    "from Skeleton import Skeleton\n",
    "from scipy.misc import imsave"
   ]
  },
  {
   "cell_type": "code",
   "execution_count": 37,
   "metadata": {},
   "outputs": [],
   "source": [
    "def applyMask(img, segmentedUser):\n",
    "    \"\"\"\n",
    "    Applies mask on the given image for visualization.\n",
    "    \"\"\"\n",
    "    if len(img.shape) > 2: # Color image\n",
    "        mask3 = segmentedUser > 150\n",
    "        masked_img = img * mask3\n",
    "    else:\n",
    "        mask2 = np.mean(segmentedUser, axis=2) > 150\n",
    "        masked_img = img * mask2\n",
    "    return masked_img\n",
    "\n",
    "def read_and_decode_sequence(filename_queue, config):\n",
    "    # Create a TFRecordReader.\n",
    "    readerOptions = tf.python_io.TFRecordOptions(compression_type=tf.python_io.TFRecordCompressionType.GZIP)\n",
    "    reader = tf.TFRecordReader(options=readerOptions)\n",
    "    _, serialized_example = reader.read(filename_queue)\n",
    "    \n",
    "    # Read one sequence sample.\n",
    "    # The training and validation files contains the following fields:\n",
    "    # - label: label of the sequence which take values between 1 and 20.\n",
    "    # - length: length of the sequence, i.e., number of frames.\n",
    "    # - depth: sequence of depth images. [length x height x width x numChannels]\n",
    "    # - rgb: sequence of rgb images. [length x height x width x numChannels]\n",
    "    # - segmentation: sequence of segmentation maskes. [length x height x width x numChannels]\n",
    "    # - skeleton: sequence of flattened skeleton joint positions. [length x numJoints]\n",
    "    #\n",
    "    # The test files doesn't contain \"label\" field.\n",
    "    # [height, width, numChannels] = [80, 80, 3]\n",
    "    with tf.name_scope(\"TFRecordDecoding\"):\n",
    "        context_encoded, sequence_encoded = tf.parse_single_sequence_example(\n",
    "                serialized_example,\n",
    "                # \"label\" and \"lenght\" are encoded as context features. \n",
    "                context_features={\n",
    "                    \"label\": tf.FixedLenFeature([], dtype=tf.int64),\n",
    "                    \"length\": tf.FixedLenFeature([], dtype=tf.int64)\n",
    "                },\n",
    "                # \"depth\", \"rgb\", \"segmentation\", \"skeleton\" are encoded as sequence features.\n",
    "                sequence_features={\n",
    "                    \"depth\": tf.FixedLenSequenceFeature([], dtype=tf.string),\n",
    "                    \"rgb\": tf.FixedLenSequenceFeature([], dtype=tf.string),\n",
    "                    \"segmentation\": tf.FixedLenSequenceFeature([], dtype=tf.string),\n",
    "                    \"skeleton\": tf.FixedLenSequenceFeature([], dtype=tf.string),\n",
    "                })\n",
    "\n",
    "        # Fetch required data fields. \n",
    "        seq_rgb = tf.decode_raw(sequence_encoded['rgb'], tf.uint8)\n",
    "        seq_depth = tf.decode_raw(sequence_encoded['depth'], tf.uint8)\n",
    "        seq_segmentation = tf.decode_raw(sequence_encoded['segmentation'], tf.uint8)\n",
    "        seq_skeleton = tf.decode_raw(sequence_encoded['skeleton'], tf.float32)\n",
    "        seq_len = tf.to_int32(context_encoded['length'])\n",
    "        seq_label = context_encoded['label']\n",
    "        # Tensorflow requires the labels start from 0. Before you create submission csv,\n",
    "        # increment the predictions by 1.\n",
    "        seq_label = seq_label - 1\n",
    "        \n",
    "        \n",
    "        #[seq_len, num_skeleton_joints]\n",
    "        seq_skeleton = tf.reshape(seq_skeleton, (seq_len, 180))\n",
    "        \n",
    "        # Reshape images.\n",
    "        #[seq_len, height, width, num_channels]\n",
    "        seq_rgb = tf.to_float(tf.reshape(seq_rgb, (-1, config['img_height'], config['img_width'], 3)))\n",
    "        seq_depth = tf.to_float(tf.reshape(seq_depth, (-1, config['img_height'], config['img_width'], 1)))\n",
    "        seq_segmentation = tf.to_float(tf.reshape(seq_segmentation, (-1, config['img_height'], config['img_width'], 3)))\n",
    "    \n",
    "        sample = {}\n",
    "        sample['rgb'] = seq_rgb\n",
    "        sample['depth'] = seq_depth\n",
    "        sample['segmentation'] = seq_segmentation\n",
    "        sample['skeleton'] = seq_skeleton\n",
    "        sample['seq_len'] = seq_len\n",
    "        sample['labels'] = seq_label\n",
    "        \n",
    "        return sample\n",
    "    \n",
    "\n",
    "def input_pipeline(filenames, config):\n",
    "    with tf.name_scope(\"input_pipeline\"):\n",
    "        # Create a queue of TFRecord input files.\n",
    "        filename_queue = tf.train.string_input_producer(filenames, num_epochs=config['num_epochs'], shuffle=True)\n",
    "        # Read the data from TFRecord files, decode and create a list of data samples by using threads.\n",
    "        sample_list = [read_and_decode_sequence(filename_queue, config) for _ in range(config['ip_num_read_threads'])]\n",
    "        # print(sample_list)\n",
    "        # Create batches.\n",
    "        # Since the data consists of variable-length sequences, allow padding by setting dynamic_pad parameter.\n",
    "        # \"batch_join\" creates batches of samples and pads the sequences w.r.t the max-length sequence in the batch.\n",
    "        # Hence, the padded sequence length can be different for different batches.\n",
    "        batch_sample = tf.train.batch_join(sample_list,\n",
    "                                            batch_size=config['batch_size'],\n",
    "                                            capacity=config['ip_queue_capacity'],\n",
    "                                            enqueue_many=False,\n",
    "                                            dynamic_pad=True,\n",
    "                                            name=\"batch_join_and_pad\")\n",
    "\n",
    "        return batch_sample"
   ]
  },
  {
   "cell_type": "code",
   "execution_count": null,
   "metadata": {},
   "outputs": [],
   "source": [
    "'''\n",
    "A simple test routine:\n",
    "'''\n",
    "config = {}\n",
    "config['img_height'] = 80\n",
    "config['img_width'] = 80\n",
    "config['img_num_channels'] = 3\n",
    "config['num_epochs'] = 10\n",
    "config['batch_size'] = 16\n",
    "# Capacity of the queue which contains the samples read by data readers.\n",
    "# Make sure that it has enough capacity.\n",
    "config['ip_queue_capacity'] = config['batch_size']*10  \n",
    "config['ip_num_read_threads'] = 6\n",
    "# Directory of the data.\n",
    "config['data_dir'] = \"/Users/zhou/Machine_Perception/mp18-dynamic-gesture-recognition/train\"\n",
    "# File naming\n",
    "config['file_format'] = \"dataTrain_%d.tfrecords\"\n",
    "# File IDs to be used for training.\n",
    "config['file_ids'] = list(range(1,2))\n",
    "\n",
    "# Create a list of TFRecord input files.\n",
    "filenames = [os.path.join(config['data_dir'], config['file_format'] % i) for i in config['file_ids']]\n",
    "\n",
    "# Create data loading operators. This will be represented as a node in the computational graph.\n",
    "# Each <key,value> pair in `batch_sample_dict_op` corresponds to Tensorflow placeholder. Alternatively we could \n",
    "# load data into memory and feed to the model by using feed_dict approach.\n",
    "batch_sample_dict_op = input_pipeline(filenames, config)\n",
    "\n",
    "# Create tensorflow session and initialize the variables (if any).\n",
    "sess = tf.Session()\n",
    "init_op = tf.group(tf.global_variables_initializer(),tf.local_variables_initializer())\n",
    "sess.run(init_op)\n",
    "# Create threads to prefetch the data.\n",
    "# https://www.tensorflow.org/programmers_guide/reading_data#creating_threads_to_prefetch_using_queuerunner_objects\n",
    "coord = tf.train.Coordinator()\n",
    "threads = tf.train.start_queue_runners(sess=sess, coord=coord)"
   ]
  },
  {
   "cell_type": "code",
   "execution_count": 40,
   "metadata": {},
   "outputs": [],
   "source": [
    "# Fetch a batch of samples.\n",
    "batch_sample_dict = sess.run(batch_sample_dict_op)"
   ]
  },
  {
   "cell_type": "markdown",
   "metadata": {},
   "source": [
    "G.X. Edit"
   ]
  },
  {
   "cell_type": "code",
   "execution_count": 41,
   "metadata": {},
   "outputs": [
    {
     "name": "stdout",
     "output_type": "stream",
     "text": [
      "depth\n",
      "labels\n",
      "rgb\n",
      "segmentation\n",
      "seq_len\n",
      "skeleton\n"
     ]
    }
   ],
   "source": [
    "for key, value in batch_sample_dict.items() :\n",
    "    print (key)"
   ]
  },
  {
   "cell_type": "code",
   "execution_count": 42,
   "metadata": {},
   "outputs": [
    {
     "data": {
      "text/plain": [
       "array([60, 71, 60, 59, 60, 60, 60, 60, 60, 71, 71, 71, 71, 59, 65, 59],\n",
       "      dtype=int32)"
      ]
     },
     "execution_count": 42,
     "metadata": {},
     "output_type": "execute_result"
    }
   ],
   "source": [
    "batch_sample_dict['seq_len']"
   ]
  },
  {
   "cell_type": "code",
   "execution_count": 46,
   "metadata": {},
   "outputs": [
    {
     "data": {
      "text/plain": [
       "(16, 71, 180)"
      ]
     },
     "execution_count": 46,
     "metadata": {},
     "output_type": "execute_result"
    }
   ],
   "source": [
    "batch_sample_dict['skeleton'].shape"
   ]
  },
  {
   "cell_type": "code",
   "execution_count": 47,
   "metadata": {},
   "outputs": [
    {
     "data": {
      "text/plain": [
       "(16, 71, 80, 80, 3)"
      ]
     },
     "execution_count": 47,
     "metadata": {},
     "output_type": "execute_result"
    }
   ],
   "source": [
    "batch_sample_dict['segmentation'].shape"
   ]
  },
  {
   "cell_type": "code",
   "execution_count": 48,
   "metadata": {},
   "outputs": [
    {
     "data": {
      "text/plain": [
       "(16, 71, 80, 80, 1)"
      ]
     },
     "execution_count": 48,
     "metadata": {},
     "output_type": "execute_result"
    }
   ],
   "source": [
    "batch_sample_dict['depth'].shape"
   ]
  },
  {
   "cell_type": "code",
   "execution_count": 49,
   "metadata": {},
   "outputs": [
    {
     "data": {
      "text/plain": [
       "array([19,  4, 19, 10, 19, 19,  1, 19, 19,  4,  4,  4,  4, 10,  5, 10])"
      ]
     },
     "execution_count": 49,
     "metadata": {},
     "output_type": "execute_result"
    }
   ],
   "source": [
    "batch_sample_dict['labels']"
   ]
  },
  {
   "cell_type": "code",
   "execution_count": null,
   "metadata": {},
   "outputs": [],
   "source": []
  },
  {
   "cell_type": "code",
   "execution_count": null,
   "metadata": {},
   "outputs": [],
   "source": []
  },
  {
   "cell_type": "code",
   "execution_count": 43,
   "metadata": {},
   "outputs": [
    {
     "name": "stdout",
     "output_type": "stream",
     "text": [
      "# Samples: 16\n",
      "Sequence lengths: [60 71 60 59 60 60 60 60 60 71 71 71 71 59 65 59]\n",
      "Sequence labels: [19  4 19 10 19 19  1 19 19  4  4  4  4 10  5 10]\n",
      "Sequence shape: (16, 71, 80, 80, 3)\n",
      "Image shape: (80, 80, 3)\n"
     ]
    },
    {
     "data": {
      "image/png": "[encoded data removed]",
      "text/plain": [
       "<matplotlib.figure.Figure at 0x11c085240>"
      ]
     },
     "metadata": {},
     "output_type": "display_data"
    },
    {
     "data": {
      "image/png": "[encoded data removed]",
      "text/plain": [
       "<matplotlib.figure.Figure at 0x1828f7ee80>"
      ]
     },
     "metadata": {},
     "output_type": "display_data"
    }
   ],
   "source": [
    "# Print \n",
    "print(\"# Samples: \" + str(len(batch_sample_dict['rgb']))) # config['batch_size'] = 16\n",
    "print(\"Sequence lengths: \" + str(batch_sample_dict['seq_len']))\n",
    "print(\"Sequence labels: \" + str(batch_sample_dict['labels']))\n",
    "\n",
    "# Note that the second dimension will give maximum-length in the batch, i.e., the padded sequence length.\n",
    "print(\"Sequence shape: \" + str(batch_sample_dict['rgb'].shape))\n",
    "\n",
    "# Fetch first clips 11th frame.\n",
    "img = batch_sample_dict['rgb'][0][10]\n",
    "mask = batch_sample_dict['segmentation'][0][10]\n",
    "print(\"Image shape: \" + str(img.shape))\n",
    "\n",
    "skeleton = Skeleton(batch_sample_dict['skeleton'][0][10])\n",
    "skeleton.resizePixelCoordinates()\n",
    "skeleton_img = skeleton.toImage(img.shape[0], img.shape[1])\n",
    "masked_img = applyMask(img,mask)\n",
    "\n",
    "# Show the images. Note that the rgb image looks strange due to the normalization.\n",
    "plt.figure()\n",
    "plt.subplot(1, 2, 1)\n",
    "plt.axis(\"off\")\n",
    "plt.imshow(img)\n",
    "plt.subplot(1, 2, 2)\n",
    "plt.imshow(skeleton_img)\n",
    "plt.axis(\"off\")\n",
    "\n",
    "plt.figure()\n",
    "plt.subplot(1, 2, 1)\n",
    "plt.axis(\"off\")\n",
    "plt.imshow(mask)\n",
    "plt.subplot(1, 2, 2)\n",
    "plt.axis(\"off\")\n",
    "plt.imshow(masked_img)\n",
    "plt.axis(\"off\")\n",
    "\n",
    "imsave('test-img.png', img)\n",
    "imsave('test-mask.png', mask)\n",
    "imsave('test-masked.png', masked_img)"
   ]
  },
  {
   "cell_type": "code",
   "execution_count": null,
   "metadata": {},
   "outputs": [],
   "source": []
  }
 ],
 "metadata": {
  "kernelspec": {
   "display_name": "Python 3",
   "language": "python",
   "name": "python3"
  },
  "language_info": {
   "codemirror_mode": {
    "name": "ipython",
    "version": 3
   },
   "file_extension": ".py",
   "mimetype": "text/x-python",
   "name": "python",
   "nbconvert_exporter": "python",
   "pygments_lexer": "ipython3",
   "version": "3.6.2"
  }
 },
 "nbformat": 4,
 "nbformat_minor": 2
}
